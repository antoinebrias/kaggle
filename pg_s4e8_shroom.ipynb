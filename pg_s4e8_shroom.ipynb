{
 "cells": [
  {
   "cell_type": "markdown",
   "metadata": {},
   "source": [
    "# Binary Prediction of Poisonous Mushrooms using Stacking Classifier "
   ]
  },
  {
   "cell_type": "code",
   "execution_count": 1,
   "metadata": {
    "_cell_guid": "b1076dfc-b9ad-4769-8c92-a6c4dae69d19",
    "_uuid": "8f2839f25d086af736a60e9eeb907d3b93b6e0e5",
    "execution": {
     "iopub.execute_input": "2024-08-28T12:37:06.881483Z",
     "iopub.status.busy": "2024-08-28T12:37:06.880331Z",
     "iopub.status.idle": "2024-08-28T12:37:06.893541Z",
     "shell.execute_reply": "2024-08-28T12:37:06.892048Z",
     "shell.execute_reply.started": "2024-08-28T12:37:06.881431Z"
    }
   },
   "outputs": [],
   "source": [

    "# https://www.kaggle.com/competitions/playground-series-s4e8\n",  
    "# This Python 3 environment comes with many helpful analytics libraries installed\n",
    "# It is defined by the kaggle/python Docker image: https://github.com/kaggle/docker-python\n",
    "# For example, here's several helpful packages to load\n",
    "\n",
    "import numpy as np\n",
    "import pandas as pd\n",
    "from sklearn.model_selection import train_test_split\n",
    "from sklearn.preprocessing import StandardScaler\n",
    "\n",
    "\n",
    "# Input data files are available in the read-only \"../input/\" directory\n",
    "# For example, running this (by clicking run or pressing Shift+Enter) will list all files under the input directory\n",
    "\n",
    "import os\n",
    "for dirname, _, filenames in os.walk('/kaggle/input'):\n",
    "    for filename in filenames:\n",
    "        print(os.path.join(dirname, filename))\n",
    "\n",
    "# You can write up to 20GB to the current directory (/kaggle/working/) that gets preserved as output when you create a version using \"Save & Run All\" \n",
    "# You can also write temporary files to /kaggle/temp/, but they won't be saved outside of the current session"
   ]
  },
  {
   "cell_type": "markdown",
   "metadata": {},
   "source": [
    "# 0. Loading the dataset"
   ]
  },
  {
   "cell_type": "code",
   "execution_count": 2,
   "metadata": {
    "execution": {
     "iopub.execute_input": "2024-08-28T12:37:10.721852Z",
     "iopub.status.busy": "2024-08-28T12:37:10.721387Z",
     "iopub.status.idle": "2024-08-28T12:37:30.358277Z",
     "shell.execute_reply": "2024-08-28T12:37:30.356801Z",
     "shell.execute_reply.started": "2024-08-28T12:37:10.721810Z"
    }
   },
   "outputs": [],
   "source": [
    "# Load dataset\n",
    "train = pd.read_csv('./kaggle/input/playground-series-s4e8/train.csv')\n",
    "test = pd.read_csv('./kaggle/input/playground-series-s4e8/test.csv')"
   ]
  },
  {
   "cell_type": "markdown",
   "metadata": {},
   "source": [
    "# 1. Inspecting the dataset"
   ]
  },
  {
   "cell_type": "code",
   "execution_count": 3,
   "metadata": {
    "execution": {
     "iopub.execute_input": "2024-08-28T12:38:31.782169Z",
     "iopub.status.busy": "2024-08-28T12:38:31.780756Z",
     "iopub.status.idle": "2024-08-28T12:38:31.807404Z",
     "shell.execute_reply": "2024-08-28T12:38:31.805767Z",
     "shell.execute_reply.started": "2024-08-28T12:38:31.782103Z"
    }
   },
   "outputs": [
    {
     "data": {
      "text/html": [
       "<div>\n",
       "<style scoped>\n",
       "    .dataframe tbody tr th:only-of-type {\n",
       "        vertical-align: middle;\n",
       "    }\n",
       "\n",
       "    .dataframe tbody tr th {\n",
       "        vertical-align: top;\n",
       "    }\n",
       "\n",
       "    .dataframe thead th {\n",
       "        text-align: right;\n",
       "    }\n",
       "</style>\n",
       "<table border=\"1\" class=\"dataframe\">\n",
       "  <thead>\n",
       "    <tr style=\"text-align: right;\">\n",
       "      <th></th>\n",
       "      <th>id</th>\n",
       "      <th>class</th>\n",
       "      <th>cap-diameter</th>\n",
       "      <th>cap-shape</th>\n",
       "      <th>cap-surface</th>\n",
       "      <th>cap-color</th>\n",
       "      <th>does-bruise-or-bleed</th>\n",
       "      <th>gill-attachment</th>\n",
       "      <th>gill-spacing</th>\n",
       "      <th>gill-color</th>\n",
       "      <th>...</th>\n",
       "      <th>stem-root</th>\n",
       "      <th>stem-surface</th>\n",
       "      <th>stem-color</th>\n",
       "      <th>veil-type</th>\n",
       "      <th>veil-color</th>\n",
       "      <th>has-ring</th>\n",
       "      <th>ring-type</th>\n",
       "      <th>spore-print-color</th>\n",
       "      <th>habitat</th>\n",
       "      <th>season</th>\n",
       "    </tr>\n",
       "  </thead>\n",
       "  <tbody>\n",
       "    <tr>\n",
       "      <th>0</th>\n",
       "      <td>0</td>\n",
       "      <td>e</td>\n",
       "      <td>8.80</td>\n",
       "      <td>f</td>\n",
       "      <td>s</td>\n",
       "      <td>u</td>\n",
       "      <td>f</td>\n",
       "      <td>a</td>\n",
       "      <td>c</td>\n",
       "      <td>w</td>\n",
       "      <td>...</td>\n",
       "      <td>NaN</td>\n",
       "      <td>NaN</td>\n",
       "      <td>w</td>\n",
       "      <td>NaN</td>\n",
       "      <td>NaN</td>\n",
       "      <td>f</td>\n",
       "      <td>f</td>\n",
       "      <td>NaN</td>\n",
       "      <td>d</td>\n",
       "      <td>a</td>\n",
       "    </tr>\n",
       "    <tr>\n",
       "      <th>1</th>\n",
       "      <td>1</td>\n",
       "      <td>p</td>\n",
       "      <td>4.51</td>\n",
       "      <td>x</td>\n",
       "      <td>h</td>\n",
       "      <td>o</td>\n",
       "      <td>f</td>\n",
       "      <td>a</td>\n",
       "      <td>c</td>\n",
       "      <td>n</td>\n",
       "      <td>...</td>\n",
       "      <td>NaN</td>\n",
       "      <td>y</td>\n",
       "      <td>o</td>\n",
       "      <td>NaN</td>\n",
       "      <td>NaN</td>\n",
       "      <td>t</td>\n",
       "      <td>z</td>\n",
       "      <td>NaN</td>\n",
       "      <td>d</td>\n",
       "      <td>w</td>\n",
       "    </tr>\n",
       "    <tr>\n",
       "      <th>2</th>\n",
       "      <td>2</td>\n",
       "      <td>e</td>\n",
       "      <td>6.94</td>\n",
       "      <td>f</td>\n",
       "      <td>s</td>\n",
       "      <td>b</td>\n",
       "      <td>f</td>\n",
       "      <td>x</td>\n",
       "      <td>c</td>\n",
       "      <td>w</td>\n",
       "      <td>...</td>\n",
       "      <td>NaN</td>\n",
       "      <td>s</td>\n",
       "      <td>n</td>\n",
       "      <td>NaN</td>\n",
       "      <td>NaN</td>\n",
       "      <td>f</td>\n",
       "      <td>f</td>\n",
       "      <td>NaN</td>\n",
       "      <td>l</td>\n",
       "      <td>w</td>\n",
       "    </tr>\n",
       "  </tbody>\n",
       "</table>\n",
       "<p>3 rows × 22 columns</p>\n",
       "</div>"
      ],
      "text/plain": [
       "   id class  cap-diameter cap-shape cap-surface cap-color  \\\n",
       "0   0     e          8.80         f           s         u   \n",
       "1   1     p          4.51         x           h         o   \n",
       "2   2     e          6.94         f           s         b   \n",
       "\n",
       "  does-bruise-or-bleed gill-attachment gill-spacing gill-color  ...  \\\n",
       "0                    f               a            c          w  ...   \n",
       "1                    f               a            c          n  ...   \n",
       "2                    f               x            c          w  ...   \n",
       "\n",
       "   stem-root  stem-surface stem-color veil-type veil-color has-ring ring-type  \\\n",
       "0        NaN           NaN          w       NaN        NaN        f         f   \n",
       "1        NaN             y          o       NaN        NaN        t         z   \n",
       "2        NaN             s          n       NaN        NaN        f         f   \n",
       "\n",
       "  spore-print-color habitat season  \n",
       "0               NaN       d      a  \n",
       "1               NaN       d      w  \n",
       "2               NaN       l      w  \n",
       "\n",
       "[3 rows x 22 columns]"
      ]
     },
     "execution_count": 3,
     "metadata": {},
     "output_type": "execute_result"
    }
   ],
   "source": [
    "# Display first few rows of the training data\n",
    "train.head(3)"
   ]
  },
  {
   "cell_type": "code",
   "execution_count": 4,
   "metadata": {
    "execution": {
     "iopub.execute_input": "2024-08-28T12:38:26.812615Z",
     "iopub.status.busy": "2024-08-28T12:38:26.812163Z",
     "iopub.status.idle": "2024-08-28T12:38:26.840384Z",
     "shell.execute_reply": "2024-08-28T12:38:26.838723Z",
     "shell.execute_reply.started": "2024-08-28T12:38:26.812573Z"
    }
   },
   "outputs": [
    {
     "data": {
      "text/html": [
       "<div>\n",
       "<style scoped>\n",
       "    .dataframe tbody tr th:only-of-type {\n",
       "        vertical-align: middle;\n",
       "    }\n",
       "\n",
       "    .dataframe tbody tr th {\n",
       "        vertical-align: top;\n",
       "    }\n",
       "\n",
       "    .dataframe thead th {\n",
       "        text-align: right;\n",
       "    }\n",
       "</style>\n",
       "<table border=\"1\" class=\"dataframe\">\n",
       "  <thead>\n",
       "    <tr style=\"text-align: right;\">\n",
       "      <th></th>\n",
       "      <th>id</th>\n",
       "      <th>cap-diameter</th>\n",
       "      <th>cap-shape</th>\n",
       "      <th>cap-surface</th>\n",
       "      <th>cap-color</th>\n",
       "      <th>does-bruise-or-bleed</th>\n",
       "      <th>gill-attachment</th>\n",
       "      <th>gill-spacing</th>\n",
       "      <th>gill-color</th>\n",
       "      <th>stem-height</th>\n",
       "      <th>...</th>\n",
       "      <th>stem-root</th>\n",
       "      <th>stem-surface</th>\n",
       "      <th>stem-color</th>\n",
       "      <th>veil-type</th>\n",
       "      <th>veil-color</th>\n",
       "      <th>has-ring</th>\n",
       "      <th>ring-type</th>\n",
       "      <th>spore-print-color</th>\n",
       "      <th>habitat</th>\n",
       "      <th>season</th>\n",
       "    </tr>\n",
       "  </thead>\n",
       "  <tbody>\n",
       "    <tr>\n",
       "      <th>0</th>\n",
       "      <td>3116945</td>\n",
       "      <td>8.64</td>\n",
       "      <td>x</td>\n",
       "      <td>NaN</td>\n",
       "      <td>n</td>\n",
       "      <td>t</td>\n",
       "      <td>NaN</td>\n",
       "      <td>NaN</td>\n",
       "      <td>w</td>\n",
       "      <td>11.13</td>\n",
       "      <td>...</td>\n",
       "      <td>b</td>\n",
       "      <td>NaN</td>\n",
       "      <td>w</td>\n",
       "      <td>u</td>\n",
       "      <td>w</td>\n",
       "      <td>t</td>\n",
       "      <td>g</td>\n",
       "      <td>NaN</td>\n",
       "      <td>d</td>\n",
       "      <td>a</td>\n",
       "    </tr>\n",
       "    <tr>\n",
       "      <th>1</th>\n",
       "      <td>3116946</td>\n",
       "      <td>6.90</td>\n",
       "      <td>o</td>\n",
       "      <td>t</td>\n",
       "      <td>o</td>\n",
       "      <td>f</td>\n",
       "      <td>NaN</td>\n",
       "      <td>c</td>\n",
       "      <td>y</td>\n",
       "      <td>1.27</td>\n",
       "      <td>...</td>\n",
       "      <td>NaN</td>\n",
       "      <td>NaN</td>\n",
       "      <td>n</td>\n",
       "      <td>NaN</td>\n",
       "      <td>NaN</td>\n",
       "      <td>f</td>\n",
       "      <td>f</td>\n",
       "      <td>NaN</td>\n",
       "      <td>d</td>\n",
       "      <td>a</td>\n",
       "    </tr>\n",
       "    <tr>\n",
       "      <th>2</th>\n",
       "      <td>3116947</td>\n",
       "      <td>2.00</td>\n",
       "      <td>b</td>\n",
       "      <td>g</td>\n",
       "      <td>n</td>\n",
       "      <td>f</td>\n",
       "      <td>NaN</td>\n",
       "      <td>c</td>\n",
       "      <td>n</td>\n",
       "      <td>6.18</td>\n",
       "      <td>...</td>\n",
       "      <td>NaN</td>\n",
       "      <td>NaN</td>\n",
       "      <td>n</td>\n",
       "      <td>NaN</td>\n",
       "      <td>NaN</td>\n",
       "      <td>f</td>\n",
       "      <td>f</td>\n",
       "      <td>NaN</td>\n",
       "      <td>d</td>\n",
       "      <td>s</td>\n",
       "    </tr>\n",
       "  </tbody>\n",
       "</table>\n",
       "<p>3 rows × 21 columns</p>\n",
       "</div>"
      ],
      "text/plain": [
       "        id  cap-diameter cap-shape cap-surface cap-color does-bruise-or-bleed  \\\n",
       "0  3116945          8.64         x         NaN         n                    t   \n",
       "1  3116946          6.90         o           t         o                    f   \n",
       "2  3116947          2.00         b           g         n                    f   \n",
       "\n",
       "  gill-attachment gill-spacing gill-color  stem-height  ...  stem-root  \\\n",
       "0             NaN          NaN          w        11.13  ...          b   \n",
       "1             NaN            c          y         1.27  ...        NaN   \n",
       "2             NaN            c          n         6.18  ...        NaN   \n",
       "\n",
       "  stem-surface stem-color veil-type veil-color has-ring ring-type  \\\n",
       "0          NaN          w         u          w        t         g   \n",
       "1          NaN          n       NaN        NaN        f         f   \n",
       "2          NaN          n       NaN        NaN        f         f   \n",
       "\n",
       "  spore-print-color habitat season  \n",
       "0               NaN       d      a  \n",
       "1               NaN       d      a  \n",
       "2               NaN       d      s  \n",
       "\n",
       "[3 rows x 21 columns]"
      ]
     },
     "execution_count": 4,
     "metadata": {},
     "output_type": "execute_result"
    }
   ],
   "source": [
    "test.head(3)"
   ]
  },
  {
   "cell_type": "code",
   "execution_count": 5,
   "metadata": {
    "execution": {
     "iopub.execute_input": "2024-08-28T12:38:59.470634Z",
     "iopub.status.busy": "2024-08-28T12:38:59.470165Z",
     "iopub.status.idle": "2024-08-28T12:38:59.478325Z",
     "shell.execute_reply": "2024-08-28T12:38:59.476965Z",
     "shell.execute_reply.started": "2024-08-28T12:38:59.470593Z"
    }
   },
   "outputs": [
    {
     "data": {
      "text/plain": [
       "((3116945, 22), (2077964, 21))"
      ]
     },
     "execution_count": 5,
     "metadata": {},
     "output_type": "execute_result"
    }
   ],
   "source": [
    "train.shape, test.shape # ((3116945, 22), (2077964, 21))"
   ]
  },
  {
   "cell_type": "code",
   "execution_count": 6,
   "metadata": {
    "execution": {
     "iopub.execute_input": "2024-08-28T12:39:12.776852Z",
     "iopub.status.busy": "2024-08-28T12:39:12.776368Z",
     "iopub.status.idle": "2024-08-28T12:39:12.800720Z",
     "shell.execute_reply": "2024-08-28T12:39:12.799478Z",
     "shell.execute_reply.started": "2024-08-28T12:39:12.776807Z"
    }
   },
   "outputs": [
    {
     "name": "stdout",
     "output_type": "stream",
     "text": [
      "<class 'pandas.core.frame.DataFrame'>\n",
      "RangeIndex: 3116945 entries, 0 to 3116944\n",
      "Data columns (total 22 columns):\n",
      " #   Column                Dtype  \n",
      "---  ------                -----  \n",
      " 0   id                    int64  \n",
      " 1   class                 object \n",
      " 2   cap-diameter          float64\n",
      " 3   cap-shape             object \n",
      " 4   cap-surface           object \n",
      " 5   cap-color             object \n",
      " 6   does-bruise-or-bleed  object \n",
      " 7   gill-attachment       object \n",
      " 8   gill-spacing          object \n",
      " 9   gill-color            object \n",
      " 10  stem-height           float64\n",
      " 11  stem-width            float64\n",
      " 12  stem-root             object \n",
      " 13  stem-surface          object \n",
      " 14  stem-color            object \n",
      " 15  veil-type             object \n",
      " 16  veil-color            object \n",
      " 17  has-ring              object \n",
      " 18  ring-type             object \n",
      " 19  spore-print-color     object \n",
      " 20  habitat               object \n",
      " 21  season                object \n",
      "dtypes: float64(3), int64(1), object(18)\n",
      "memory usage: 523.2+ MB\n"
     ]
    }
   ],
   "source": [
    "train.info()"
   ]
  },
  {
   "cell_type": "code",
   "execution_count": 7,
   "metadata": {
    "execution": {
     "iopub.execute_input": "2024-08-28T12:39:27.439064Z",
     "iopub.status.busy": "2024-08-28T12:39:27.437556Z",
     "iopub.status.idle": "2024-08-28T12:39:27.455475Z",
     "shell.execute_reply": "2024-08-28T12:39:27.453466Z",
     "shell.execute_reply.started": "2024-08-28T12:39:27.438999Z"
    }
   },
   "outputs": [
    {
     "name": "stdout",
     "output_type": "stream",
     "text": [
      "<class 'pandas.core.frame.DataFrame'>\n",
      "RangeIndex: 2077964 entries, 0 to 2077963\n",
      "Data columns (total 21 columns):\n",
      " #   Column                Dtype  \n",
      "---  ------                -----  \n",
      " 0   id                    int64  \n",
      " 1   cap-diameter          float64\n",
      " 2   cap-shape             object \n",
      " 3   cap-surface           object \n",
      " 4   cap-color             object \n",
      " 5   does-bruise-or-bleed  object \n",
      " 6   gill-attachment       object \n",
      " 7   gill-spacing          object \n",
      " 8   gill-color            object \n",
      " 9   stem-height           float64\n",
      " 10  stem-width            float64\n",
      " 11  stem-root             object \n",
      " 12  stem-surface          object \n",
      " 13  stem-color            object \n",
      " 14  veil-type             object \n",
      " 15  veil-color            object \n",
      " 16  has-ring              object \n",
      " 17  ring-type             object \n",
      " 18  spore-print-color     object \n",
      " 19  habitat               object \n",
      " 20  season                object \n",
      "dtypes: float64(3), int64(1), object(17)\n",
      "memory usage: 332.9+ MB\n"
     ]
    }
   ],
   "source": [
    "test.info()"
   ]
  },
  {
   "cell_type": "code",
   "execution_count": 8,
   "metadata": {
    "execution": {
     "iopub.execute_input": "2024-08-28T12:39:53.817314Z",
     "iopub.status.busy": "2024-08-28T12:39:53.816897Z",
     "iopub.status.idle": "2024-08-28T12:39:54.412927Z",
     "shell.execute_reply": "2024-08-28T12:39:54.411625Z",
     "shell.execute_reply.started": "2024-08-28T12:39:53.817275Z"
    }
   },
   "outputs": [
    {
     "data": {
      "text/html": [
       "<div>\n",
       "<style scoped>\n",
       "    .dataframe tbody tr th:only-of-type {\n",
       "        vertical-align: middle;\n",
       "    }\n",
       "\n",
       "    .dataframe tbody tr th {\n",
       "        vertical-align: top;\n",
       "    }\n",
       "\n",
       "    .dataframe thead th {\n",
       "        text-align: right;\n",
       "    }\n",
       "</style>\n",
       "<table border=\"1\" class=\"dataframe\">\n",
       "  <thead>\n",
       "    <tr style=\"text-align: right;\">\n",
       "      <th></th>\n",
       "      <th>id</th>\n",
       "      <th>cap-diameter</th>\n",
       "      <th>stem-height</th>\n",
       "      <th>stem-width</th>\n",
       "    </tr>\n",
       "  </thead>\n",
       "  <tbody>\n",
       "    <tr>\n",
       "      <th>count</th>\n",
       "      <td>3.116945e+06</td>\n",
       "      <td>3.116941e+06</td>\n",
       "      <td>3.116945e+06</td>\n",
       "      <td>3.116945e+06</td>\n",
       "    </tr>\n",
       "    <tr>\n",
       "      <th>mean</th>\n",
       "      <td>1.558472e+06</td>\n",
       "      <td>6.309848e+00</td>\n",
       "      <td>6.348333e+00</td>\n",
       "      <td>1.115379e+01</td>\n",
       "    </tr>\n",
       "    <tr>\n",
       "      <th>std</th>\n",
       "      <td>8.997847e+05</td>\n",
       "      <td>4.657931e+00</td>\n",
       "      <td>2.699755e+00</td>\n",
       "      <td>8.095477e+00</td>\n",
       "    </tr>\n",
       "    <tr>\n",
       "      <th>min</th>\n",
       "      <td>0.000000e+00</td>\n",
       "      <td>3.000000e-02</td>\n",
       "      <td>0.000000e+00</td>\n",
       "      <td>0.000000e+00</td>\n",
       "    </tr>\n",
       "    <tr>\n",
       "      <th>25%</th>\n",
       "      <td>7.792360e+05</td>\n",
       "      <td>3.320000e+00</td>\n",
       "      <td>4.670000e+00</td>\n",
       "      <td>4.970000e+00</td>\n",
       "    </tr>\n",
       "    <tr>\n",
       "      <th>50%</th>\n",
       "      <td>1.558472e+06</td>\n",
       "      <td>5.750000e+00</td>\n",
       "      <td>5.880000e+00</td>\n",
       "      <td>9.650000e+00</td>\n",
       "    </tr>\n",
       "    <tr>\n",
       "      <th>75%</th>\n",
       "      <td>2.337708e+06</td>\n",
       "      <td>8.240000e+00</td>\n",
       "      <td>7.410000e+00</td>\n",
       "      <td>1.563000e+01</td>\n",
       "    </tr>\n",
       "    <tr>\n",
       "      <th>max</th>\n",
       "      <td>3.116944e+06</td>\n",
       "      <td>8.067000e+01</td>\n",
       "      <td>8.872000e+01</td>\n",
       "      <td>1.029000e+02</td>\n",
       "    </tr>\n",
       "  </tbody>\n",
       "</table>\n",
       "</div>"
      ],
      "text/plain": [
       "                 id  cap-diameter   stem-height    stem-width\n",
       "count  3.116945e+06  3.116941e+06  3.116945e+06  3.116945e+06\n",
       "mean   1.558472e+06  6.309848e+00  6.348333e+00  1.115379e+01\n",
       "std    8.997847e+05  4.657931e+00  2.699755e+00  8.095477e+00\n",
       "min    0.000000e+00  3.000000e-02  0.000000e+00  0.000000e+00\n",
       "25%    7.792360e+05  3.320000e+00  4.670000e+00  4.970000e+00\n",
       "50%    1.558472e+06  5.750000e+00  5.880000e+00  9.650000e+00\n",
       "75%    2.337708e+06  8.240000e+00  7.410000e+00  1.563000e+01\n",
       "max    3.116944e+06  8.067000e+01  8.872000e+01  1.029000e+02"
      ]
     },
     "execution_count": 8,
     "metadata": {},
     "output_type": "execute_result"
    }
   ],
   "source": [
    "train.describe()"
   ]
  },
  {
   "cell_type": "code",
   "execution_count": 9,
   "metadata": {
    "execution": {
     "iopub.execute_input": "2024-08-28T12:39:57.643515Z",
     "iopub.status.busy": "2024-08-28T12:39:57.643087Z",
     "iopub.status.idle": "2024-08-28T12:39:58.038288Z",
     "shell.execute_reply": "2024-08-28T12:39:58.036914Z",
     "shell.execute_reply.started": "2024-08-28T12:39:57.643469Z"
    }
   },
   "outputs": [
    {
     "data": {
      "text/html": [
       "<div>\n",
       "<style scoped>\n",
       "    .dataframe tbody tr th:only-of-type {\n",
       "        vertical-align: middle;\n",
       "    }\n",
       "\n",
       "    .dataframe tbody tr th {\n",
       "        vertical-align: top;\n",
       "    }\n",
       "\n",
       "    .dataframe thead th {\n",
       "        text-align: right;\n",
       "    }\n",
       "</style>\n",
       "<table border=\"1\" class=\"dataframe\">\n",
       "  <thead>\n",
       "    <tr style=\"text-align: right;\">\n",
       "      <th></th>\n",
       "      <th>id</th>\n",
       "      <th>cap-diameter</th>\n",
       "      <th>stem-height</th>\n",
       "      <th>stem-width</th>\n",
       "    </tr>\n",
       "  </thead>\n",
       "  <tbody>\n",
       "    <tr>\n",
       "      <th>count</th>\n",
       "      <td>2.077964e+06</td>\n",
       "      <td>2.077957e+06</td>\n",
       "      <td>2.077963e+06</td>\n",
       "      <td>2.077964e+06</td>\n",
       "    </tr>\n",
       "    <tr>\n",
       "      <th>mean</th>\n",
       "      <td>4.155926e+06</td>\n",
       "      <td>6.306192e+00</td>\n",
       "      <td>6.346509e+00</td>\n",
       "      <td>1.114837e+01</td>\n",
       "    </tr>\n",
       "    <tr>\n",
       "      <th>std</th>\n",
       "      <td>5.998567e+05</td>\n",
       "      <td>4.685462e+00</td>\n",
       "      <td>2.698978e+00</td>\n",
       "      <td>8.100181e+00</td>\n",
       "    </tr>\n",
       "    <tr>\n",
       "      <th>min</th>\n",
       "      <td>3.116945e+06</td>\n",
       "      <td>0.000000e+00</td>\n",
       "      <td>0.000000e+00</td>\n",
       "      <td>0.000000e+00</td>\n",
       "    </tr>\n",
       "    <tr>\n",
       "      <th>25%</th>\n",
       "      <td>3.636436e+06</td>\n",
       "      <td>3.310000e+00</td>\n",
       "      <td>4.670000e+00</td>\n",
       "      <td>4.970000e+00</td>\n",
       "    </tr>\n",
       "    <tr>\n",
       "      <th>50%</th>\n",
       "      <td>4.155926e+06</td>\n",
       "      <td>5.740000e+00</td>\n",
       "      <td>5.880000e+00</td>\n",
       "      <td>9.640000e+00</td>\n",
       "    </tr>\n",
       "    <tr>\n",
       "      <th>75%</th>\n",
       "      <td>4.675417e+06</td>\n",
       "      <td>8.230000e+00</td>\n",
       "      <td>7.410000e+00</td>\n",
       "      <td>1.562000e+01</td>\n",
       "    </tr>\n",
       "    <tr>\n",
       "      <th>max</th>\n",
       "      <td>5.194908e+06</td>\n",
       "      <td>6.070000e+02</td>\n",
       "      <td>5.729000e+01</td>\n",
       "      <td>1.029100e+02</td>\n",
       "    </tr>\n",
       "  </tbody>\n",
       "</table>\n",
       "</div>"
      ],
      "text/plain": [
       "                 id  cap-diameter   stem-height    stem-width\n",
       "count  2.077964e+06  2.077957e+06  2.077963e+06  2.077964e+06\n",
       "mean   4.155926e+06  6.306192e+00  6.346509e+00  1.114837e+01\n",
       "std    5.998567e+05  4.685462e+00  2.698978e+00  8.100181e+00\n",
       "min    3.116945e+06  0.000000e+00  0.000000e+00  0.000000e+00\n",
       "25%    3.636436e+06  3.310000e+00  4.670000e+00  4.970000e+00\n",
       "50%    4.155926e+06  5.740000e+00  5.880000e+00  9.640000e+00\n",
       "75%    4.675417e+06  8.230000e+00  7.410000e+00  1.562000e+01\n",
       "max    5.194908e+06  6.070000e+02  5.729000e+01  1.029100e+02"
      ]
     },
     "execution_count": 9,
     "metadata": {},
     "output_type": "execute_result"
    }
   ],
   "source": [
    "test.describe()"
   ]
  },
  {
   "cell_type": "markdown",
   "metadata": {},
   "source": [
    "# 2. Pre-processing"
   ]
  },
  {
   "cell_type": "markdown",
   "metadata": {},
   "source": [
    "## 2.0 Remove unecessary columns"
   ]
  },
  {
   "cell_type": "code",
   "execution_count": 10,
   "metadata": {},
   "outputs": [],
   "source": [
    "# ID = test['id'].copy()\n",
    "\n",
    "# train = train.drop(columns = 'id')\n",
    "# test = test.drop(columns = 'id')"
   ]
  },
  {
   "cell_type": "markdown",
   "metadata": {},
   "source": [
    "## 2.1 Handling missing values"
   ]
  },
  {
   "cell_type": "code",
   "execution_count": 11,
   "metadata": {
    "execution": {
     "iopub.execute_input": "2024-08-28T12:42:05.656181Z",
     "iopub.status.busy": "2024-08-28T12:42:05.654891Z",
     "iopub.status.idle": "2024-08-28T12:42:10.465031Z",
     "shell.execute_reply": "2024-08-28T12:42:10.463838Z",
     "shell.execute_reply.started": "2024-08-28T12:42:05.656124Z"
    }
   },
   "outputs": [
    {
     "data": {
      "text/html": [
       "<div>\n",
       "<style scoped>\n",
       "    .dataframe tbody tr th:only-of-type {\n",
       "        vertical-align: middle;\n",
       "    }\n",
       "\n",
       "    .dataframe tbody tr th {\n",
       "        vertical-align: top;\n",
       "    }\n",
       "\n",
       "    .dataframe thead th {\n",
       "        text-align: right;\n",
       "    }\n",
       "</style>\n",
       "<table border=\"1\" class=\"dataframe\">\n",
       "  <thead>\n",
       "    <tr style=\"text-align: right;\">\n",
       "      <th></th>\n",
       "      <th>Missing Values(train)</th>\n",
       "      <th>Percentage</th>\n",
       "    </tr>\n",
       "  </thead>\n",
       "  <tbody>\n",
       "    <tr>\n",
       "      <th>id</th>\n",
       "      <td>0</td>\n",
       "      <td>0.000000</td>\n",
       "    </tr>\n",
       "    <tr>\n",
       "      <th>class</th>\n",
       "      <td>0</td>\n",
       "      <td>0.000000</td>\n",
       "    </tr>\n",
       "    <tr>\n",
       "      <th>cap-diameter</th>\n",
       "      <td>4</td>\n",
       "      <td>0.000128</td>\n",
       "    </tr>\n",
       "    <tr>\n",
       "      <th>cap-shape</th>\n",
       "      <td>40</td>\n",
       "      <td>0.001283</td>\n",
       "    </tr>\n",
       "    <tr>\n",
       "      <th>cap-surface</th>\n",
       "      <td>671023</td>\n",
       "      <td>21.528227</td>\n",
       "    </tr>\n",
       "    <tr>\n",
       "      <th>cap-color</th>\n",
       "      <td>12</td>\n",
       "      <td>0.000385</td>\n",
       "    </tr>\n",
       "    <tr>\n",
       "      <th>does-bruise-or-bleed</th>\n",
       "      <td>8</td>\n",
       "      <td>0.000257</td>\n",
       "    </tr>\n",
       "    <tr>\n",
       "      <th>gill-attachment</th>\n",
       "      <td>523936</td>\n",
       "      <td>16.809280</td>\n",
       "    </tr>\n",
       "    <tr>\n",
       "      <th>gill-spacing</th>\n",
       "      <td>1258435</td>\n",
       "      <td>40.373988</td>\n",
       "    </tr>\n",
       "    <tr>\n",
       "      <th>gill-color</th>\n",
       "      <td>57</td>\n",
       "      <td>0.001829</td>\n",
       "    </tr>\n",
       "    <tr>\n",
       "      <th>stem-height</th>\n",
       "      <td>0</td>\n",
       "      <td>0.000000</td>\n",
       "    </tr>\n",
       "    <tr>\n",
       "      <th>stem-width</th>\n",
       "      <td>0</td>\n",
       "      <td>0.000000</td>\n",
       "    </tr>\n",
       "    <tr>\n",
       "      <th>stem-root</th>\n",
       "      <td>2757023</td>\n",
       "      <td>88.452732</td>\n",
       "    </tr>\n",
       "    <tr>\n",
       "      <th>stem-surface</th>\n",
       "      <td>1980861</td>\n",
       "      <td>63.551362</td>\n",
       "    </tr>\n",
       "    <tr>\n",
       "      <th>stem-color</th>\n",
       "      <td>38</td>\n",
       "      <td>0.001219</td>\n",
       "    </tr>\n",
       "    <tr>\n",
       "      <th>veil-type</th>\n",
       "      <td>2957493</td>\n",
       "      <td>94.884350</td>\n",
       "    </tr>\n",
       "    <tr>\n",
       "      <th>veil-color</th>\n",
       "      <td>2740947</td>\n",
       "      <td>87.936970</td>\n",
       "    </tr>\n",
       "    <tr>\n",
       "      <th>has-ring</th>\n",
       "      <td>24</td>\n",
       "      <td>0.000770</td>\n",
       "    </tr>\n",
       "    <tr>\n",
       "      <th>ring-type</th>\n",
       "      <td>128880</td>\n",
       "      <td>4.134818</td>\n",
       "    </tr>\n",
       "    <tr>\n",
       "      <th>spore-print-color</th>\n",
       "      <td>2849682</td>\n",
       "      <td>91.425482</td>\n",
       "    </tr>\n",
       "    <tr>\n",
       "      <th>habitat</th>\n",
       "      <td>45</td>\n",
       "      <td>0.001444</td>\n",
       "    </tr>\n",
       "    <tr>\n",
       "      <th>season</th>\n",
       "      <td>0</td>\n",
       "      <td>0.000000</td>\n",
       "    </tr>\n",
       "  </tbody>\n",
       "</table>\n",
       "</div>"
      ],
      "text/plain": [
       "                      Missing Values(train)  Percentage\n",
       "id                                        0    0.000000\n",
       "class                                     0    0.000000\n",
       "cap-diameter                              4    0.000128\n",
       "cap-shape                                40    0.001283\n",
       "cap-surface                          671023   21.528227\n",
       "cap-color                                12    0.000385\n",
       "does-bruise-or-bleed                      8    0.000257\n",
       "gill-attachment                      523936   16.809280\n",
       "gill-spacing                        1258435   40.373988\n",
       "gill-color                               57    0.001829\n",
       "stem-height                               0    0.000000\n",
       "stem-width                                0    0.000000\n",
       "stem-root                           2757023   88.452732\n",
       "stem-surface                        1980861   63.551362\n",
       "stem-color                               38    0.001219\n",
       "veil-type                           2957493   94.884350\n",
       "veil-color                          2740947   87.936970\n",
       "has-ring                                 24    0.000770\n",
       "ring-type                            128880    4.134818\n",
       "spore-print-color                   2849682   91.425482\n",
       "habitat                                  45    0.001444\n",
       "season                                    0    0.000000"
      ]
     },
     "execution_count": 11,
     "metadata": {},
     "output_type": "execute_result"
    }
   ],
   "source": [
    "missing_values = train.isna().sum()\n",
    "percentage = train.isnull().mean() * 100\n",
    "missing = pd.DataFrame({'Missing Values(train)':missing_values, 'Percentage':percentage})\n",
    "missing"
   ]
  },
  {
   "cell_type": "code",
   "execution_count": 12,
   "metadata": {
    "execution": {
     "iopub.execute_input": "2024-08-28T12:46:21.169968Z",
     "iopub.status.busy": "2024-08-28T12:46:21.169509Z",
     "iopub.status.idle": "2024-08-28T12:46:24.140047Z",
     "shell.execute_reply": "2024-08-28T12:46:24.138648Z",
     "shell.execute_reply.started": "2024-08-28T12:46:21.169927Z"
    }
   },
   "outputs": [
    {
     "data": {
      "text/html": [
       "<div>\n",
       "<style scoped>\n",
       "    .dataframe tbody tr th:only-of-type {\n",
       "        vertical-align: middle;\n",
       "    }\n",
       "\n",
       "    .dataframe tbody tr th {\n",
       "        vertical-align: top;\n",
       "    }\n",
       "\n",
       "    .dataframe thead th {\n",
       "        text-align: right;\n",
       "    }\n",
       "</style>\n",
       "<table border=\"1\" class=\"dataframe\">\n",
       "  <thead>\n",
       "    <tr style=\"text-align: right;\">\n",
       "      <th></th>\n",
       "      <th>Missing Values(test)</th>\n",
       "      <th>Percentage</th>\n",
       "    </tr>\n",
       "  </thead>\n",
       "  <tbody>\n",
       "    <tr>\n",
       "      <th>id</th>\n",
       "      <td>0</td>\n",
       "      <td>0.000000</td>\n",
       "    </tr>\n",
       "    <tr>\n",
       "      <th>cap-diameter</th>\n",
       "      <td>7</td>\n",
       "      <td>0.000337</td>\n",
       "    </tr>\n",
       "    <tr>\n",
       "      <th>cap-shape</th>\n",
       "      <td>31</td>\n",
       "      <td>0.001492</td>\n",
       "    </tr>\n",
       "    <tr>\n",
       "      <th>cap-surface</th>\n",
       "      <td>446904</td>\n",
       "      <td>21.506821</td>\n",
       "    </tr>\n",
       "    <tr>\n",
       "      <th>cap-color</th>\n",
       "      <td>13</td>\n",
       "      <td>0.000626</td>\n",
       "    </tr>\n",
       "    <tr>\n",
       "      <th>does-bruise-or-bleed</th>\n",
       "      <td>10</td>\n",
       "      <td>0.000481</td>\n",
       "    </tr>\n",
       "    <tr>\n",
       "      <th>gill-attachment</th>\n",
       "      <td>349821</td>\n",
       "      <td>16.834796</td>\n",
       "    </tr>\n",
       "    <tr>\n",
       "      <th>gill-spacing</th>\n",
       "      <td>839595</td>\n",
       "      <td>40.404694</td>\n",
       "    </tr>\n",
       "    <tr>\n",
       "      <th>gill-color</th>\n",
       "      <td>49</td>\n",
       "      <td>0.002358</td>\n",
       "    </tr>\n",
       "    <tr>\n",
       "      <th>stem-height</th>\n",
       "      <td>1</td>\n",
       "      <td>0.000048</td>\n",
       "    </tr>\n",
       "    <tr>\n",
       "      <th>stem-width</th>\n",
       "      <td>0</td>\n",
       "      <td>0.000000</td>\n",
       "    </tr>\n",
       "    <tr>\n",
       "      <th>stem-root</th>\n",
       "      <td>1838012</td>\n",
       "      <td>88.452543</td>\n",
       "    </tr>\n",
       "    <tr>\n",
       "      <th>stem-surface</th>\n",
       "      <td>1321488</td>\n",
       "      <td>63.595327</td>\n",
       "    </tr>\n",
       "    <tr>\n",
       "      <th>stem-color</th>\n",
       "      <td>21</td>\n",
       "      <td>0.001011</td>\n",
       "    </tr>\n",
       "    <tr>\n",
       "      <th>veil-type</th>\n",
       "      <td>1971545</td>\n",
       "      <td>94.878689</td>\n",
       "    </tr>\n",
       "    <tr>\n",
       "      <th>veil-color</th>\n",
       "      <td>1826124</td>\n",
       "      <td>87.880445</td>\n",
       "    </tr>\n",
       "    <tr>\n",
       "      <th>has-ring</th>\n",
       "      <td>19</td>\n",
       "      <td>0.000914</td>\n",
       "    </tr>\n",
       "    <tr>\n",
       "      <th>ring-type</th>\n",
       "      <td>86195</td>\n",
       "      <td>4.148051</td>\n",
       "    </tr>\n",
       "    <tr>\n",
       "      <th>spore-print-color</th>\n",
       "      <td>1899617</td>\n",
       "      <td>91.417224</td>\n",
       "    </tr>\n",
       "    <tr>\n",
       "      <th>habitat</th>\n",
       "      <td>25</td>\n",
       "      <td>0.001203</td>\n",
       "    </tr>\n",
       "    <tr>\n",
       "      <th>season</th>\n",
       "      <td>0</td>\n",
       "      <td>0.000000</td>\n",
       "    </tr>\n",
       "  </tbody>\n",
       "</table>\n",
       "</div>"
      ],
      "text/plain": [
       "                      Missing Values(test)  Percentage\n",
       "id                                       0    0.000000\n",
       "cap-diameter                             7    0.000337\n",
       "cap-shape                               31    0.001492\n",
       "cap-surface                         446904   21.506821\n",
       "cap-color                               13    0.000626\n",
       "does-bruise-or-bleed                    10    0.000481\n",
       "gill-attachment                     349821   16.834796\n",
       "gill-spacing                        839595   40.404694\n",
       "gill-color                              49    0.002358\n",
       "stem-height                              1    0.000048\n",
       "stem-width                               0    0.000000\n",
       "stem-root                          1838012   88.452543\n",
       "stem-surface                       1321488   63.595327\n",
       "stem-color                              21    0.001011\n",
       "veil-type                          1971545   94.878689\n",
       "veil-color                         1826124   87.880445\n",
       "has-ring                                19    0.000914\n",
       "ring-type                            86195    4.148051\n",
       "spore-print-color                  1899617   91.417224\n",
       "habitat                                 25    0.001203\n",
       "season                                   0    0.000000"
      ]
     },
     "execution_count": 12,
     "metadata": {},
     "output_type": "execute_result"
    }
   ],
   "source": [
    "missing_values_test = test.isna().sum()\n",
    "percentage_test = test.isnull().mean() * 100\n",
    "missing_test = pd.DataFrame({'Missing Values(test)':missing_values_test, 'Percentage':percentage_test})\n",
    "missing_test"
   ]
  },
  {
   "cell_type": "code",
   "execution_count": 13,
   "metadata": {
    "execution": {
     "iopub.execute_input": "2024-08-28T12:50:33.289413Z",
     "iopub.status.busy": "2024-08-28T12:50:33.288931Z",
     "iopub.status.idle": "2024-08-28T12:50:33.297918Z",
     "shell.execute_reply": "2024-08-28T12:50:33.296545Z",
     "shell.execute_reply.started": "2024-08-28T12:50:33.289373Z"
    }
   },
   "outputs": [
    {
     "data": {
      "text/plain": [
       "Index(['stem-root', 'stem-surface', 'veil-type', 'veil-color',\n",
       "       'spore-print-color'],\n",
       "      dtype='object')"
      ]
     },
     "execution_count": 13,
     "metadata": {},
     "output_type": "execute_result"
    }
   ],
   "source": [
    "train_columns_with_missing_data = percentage[percentage > 50].index\n",
    "train_columns_with_missing_data"
   ]
  },
  {
   "cell_type": "code",
   "execution_count": 14,
   "metadata": {
    "execution": {
     "iopub.execute_input": "2024-08-28T12:50:35.341834Z",
     "iopub.status.busy": "2024-08-28T12:50:35.341372Z",
     "iopub.status.idle": "2024-08-28T12:50:35.350212Z",
     "shell.execute_reply": "2024-08-28T12:50:35.348713Z",
     "shell.execute_reply.started": "2024-08-28T12:50:35.341788Z"
    }
   },
   "outputs": [
    {
     "data": {
      "text/plain": [
       "Index(['stem-root', 'stem-surface', 'veil-type', 'veil-color',\n",
       "       'spore-print-color'],\n",
       "      dtype='object')"
      ]
     },
     "execution_count": 14,
     "metadata": {},
     "output_type": "execute_result"
    }
   ],
   "source": [
    "test_columns_with_missing_data = percentage_test[percentage_test > 50].index\n",
    "test_columns_with_missing_data"
   ]
  },
  {
   "cell_type": "code",
   "execution_count": 15,
   "metadata": {
    "execution": {
     "iopub.execute_input": "2024-08-28T12:50:36.862159Z",
     "iopub.status.busy": "2024-08-28T12:50:36.861587Z",
     "iopub.status.idle": "2024-08-28T12:50:37.709480Z",
     "shell.execute_reply": "2024-08-28T12:50:37.707944Z",
     "shell.execute_reply.started": "2024-08-28T12:50:36.862106Z"
    }
   },
   "outputs": [],
   "source": [
    "train = train.drop(columns = train_columns_with_missing_data)\n",
    "test = test.drop(columns = test_columns_with_missing_data)"
   ]
  },
  {
   "cell_type": "code",
   "execution_count": 16,
   "metadata": {},
   "outputs": [
    {
     "data": {
      "text/plain": [
       "id                           0\n",
       "cap-diameter                 7\n",
       "cap-shape                   31\n",
       "cap-surface             446904\n",
       "cap-color                   13\n",
       "does-bruise-or-bleed        10\n",
       "gill-attachment         349821\n",
       "gill-spacing            839595\n",
       "gill-color                  49\n",
       "stem-height                  1\n",
       "stem-width                   0\n",
       "stem-color                  21\n",
       "has-ring                    19\n",
       "ring-type                86195\n",
       "habitat                     25\n",
       "season                       0\n",
       "dtype: int64"
      ]
     },
     "execution_count": 16,
     "metadata": {},
     "output_type": "execute_result"
    }
   ],
   "source": [
    "train.isna().sum()\n",
    "test.isna().sum()"
   ]
  },
  {
   "cell_type": "code",
   "execution_count": 17,
   "metadata": {
    "execution": {
     "iopub.execute_input": "2024-08-28T12:54:12.044950Z",
     "iopub.status.busy": "2024-08-28T12:54:12.044444Z",
     "iopub.status.idle": "2024-08-28T12:54:12.527711Z",
     "shell.execute_reply": "2024-08-28T12:54:12.526521Z",
     "shell.execute_reply.started": "2024-08-28T12:54:12.044909Z"
    }
   },
   "outputs": [],
   "source": [
    "# replace NA by the mean for continuous variables\n",
    "train_conti = train.select_dtypes(exclude = 'object').copy()\n",
    "test_conti = test.select_dtypes(exclude = 'object').copy()\n",
    "\n",
    "train_conti = train_conti.fillna(train_conti.mean())\n",
    "test_conti = test_conti.fillna(test_conti.mean())"
   ]
  },
  {
   "cell_type": "code",
   "execution_count": 18,
   "metadata": {
    "execution": {
     "iopub.execute_input": "2024-08-28T12:54:15.544599Z",
     "iopub.status.busy": "2024-08-28T12:54:15.544131Z",
     "iopub.status.idle": "2024-08-28T12:54:25.584726Z",
     "shell.execute_reply": "2024-08-28T12:54:25.583335Z",
     "shell.execute_reply.started": "2024-08-28T12:54:15.544558Z"
    }
   },
   "outputs": [],
   "source": [
    "# replace NA by the mode for discrete variables\n",
    "train_category = train.select_dtypes('object').copy()\n",
    "test_category = test.select_dtypes('object').copy()\n",
    "\n",
    "for col in train_category.columns:\n",
    "    if train_category[col].isnull().any():  \n",
    "        mode = train_category[col].mode()[0]  \n",
    "        train_category[col] = train_category[col].fillna(mode)\n",
    "        test_category[col] = test_category[col].fillna(mode)"
   ]
  },
  {
   "cell_type": "code",
   "execution_count": 19,
   "metadata": {
    "execution": {
     "iopub.execute_input": "2024-08-28T12:54:29.842040Z",
     "iopub.status.busy": "2024-08-28T12:54:29.841593Z",
     "iopub.status.idle": "2024-08-28T12:54:33.503348Z",
     "shell.execute_reply": "2024-08-28T12:54:33.502192Z",
     "shell.execute_reply.started": "2024-08-28T12:54:29.841998Z"
    }
   },
   "outputs": [],
   "source": [
    "train = pd.concat([train_conti, train_category], axis = 1)\n",
    "test = pd.concat([test_conti, test_category], axis = 1)"
   ]
  },
  {
   "cell_type": "code",
   "execution_count": 20,
   "metadata": {
    "execution": {
     "iopub.execute_input": "2024-08-28T12:55:03.937426Z",
     "iopub.status.busy": "2024-08-28T12:55:03.936974Z",
     "iopub.status.idle": "2024-08-28T12:55:06.999446Z",
     "shell.execute_reply": "2024-08-28T12:55:06.998166Z",
     "shell.execute_reply.started": "2024-08-28T12:55:03.937387Z"
    }
   },
   "outputs": [
    {
     "data": {
      "text/plain": [
       "id                      0\n",
       "cap-diameter            0\n",
       "stem-height             0\n",
       "stem-width              0\n",
       "cap-shape               0\n",
       "cap-surface             0\n",
       "cap-color               0\n",
       "does-bruise-or-bleed    0\n",
       "gill-attachment         0\n",
       "gill-spacing            0\n",
       "gill-color              0\n",
       "stem-color              0\n",
       "has-ring                0\n",
       "ring-type               0\n",
       "habitat                 0\n",
       "season                  0\n",
       "dtype: int64"
      ]
     },
     "execution_count": 20,
     "metadata": {},
     "output_type": "execute_result"
    }
   ],
   "source": [
    "train.isna().sum()\n",
    "test.isna().sum()"
   ]
  },
  {
   "cell_type": "code",
   "execution_count": 21,
   "metadata": {
    "execution": {
     "iopub.execute_input": "2024-08-28T12:55:13.687306Z",
     "iopub.status.busy": "2024-08-28T12:55:13.686556Z",
     "iopub.status.idle": "2024-08-28T12:55:13.695175Z",
     "shell.execute_reply": "2024-08-28T12:55:13.693631Z",
     "shell.execute_reply.started": "2024-08-28T12:55:13.687260Z"
    }
   },
   "outputs": [
    {
     "data": {
      "text/plain": [
       "((3116945, 17), (2077964, 16))"
      ]
     },
     "execution_count": 21,
     "metadata": {},
     "output_type": "execute_result"
    }
   ],
   "source": [
    "train.shape, test.shape"
   ]
  },
  {
   "cell_type": "markdown",
   "metadata": {},
   "source": [
    "## 2.2 Pre-processing categorical columns"
   ]
  },
  {
   "cell_type": "code",
   "execution_count": 22,
   "metadata": {
    "execution": {
     "iopub.execute_input": "2024-08-28T13:01:05.825800Z",
     "iopub.status.busy": "2024-08-28T13:01:05.825258Z",
     "iopub.status.idle": "2024-08-28T13:01:10.007233Z",
     "shell.execute_reply": "2024-08-28T13:01:10.005905Z",
     "shell.execute_reply.started": "2024-08-28T13:01:05.825749Z"
    }
   },
   "outputs": [
    {
     "data": {
      "text/plain": [
       "cap-shape               62\n",
       "cap-surface             59\n",
       "cap-color               57\n",
       "does-bruise-or-bleed    22\n",
       "gill-attachment         66\n",
       "gill-spacing            35\n",
       "gill-color              56\n",
       "stem-color              55\n",
       "has-ring                23\n",
       "ring-type               36\n",
       "habitat                 39\n",
       "season                   4\n",
       "dtype: int64"
      ]
     },
     "execution_count": 22,
     "metadata": {},
     "output_type": "execute_result"
    }
   ],
   "source": [
    "train.select_dtypes('object').nunique()\n",
    "test.select_dtypes('object').nunique()"
   ]
  },
  {
   "cell_type": "code",
   "execution_count": 23,
   "metadata": {
    "execution": {
     "iopub.execute_input": "2024-08-28T13:01:11.704831Z",
     "iopub.status.busy": "2024-08-28T13:01:11.704355Z",
     "iopub.status.idle": "2024-08-28T13:03:02.679149Z",
     "shell.execute_reply": "2024-08-28T13:03:02.677901Z",
     "shell.execute_reply.started": "2024-08-28T13:01:11.704787Z"
    }
   },
   "outputs": [],
   "source": [
    "def replace_low_frequency_with_mode(df):\n",
    "    object_columns = df.select_dtypes(include='object').columns\n",
    "    \n",
    "    for column in object_columns:\n",
    "        value_counts = df[column].value_counts()\n",
    "        \n",
    "        #Filters out the values that occur 100 times or fewer in the column.\n",
    "        low_freq_values = value_counts[value_counts <= 100].index\n",
    "        \n",
    "        mode_value = df[column].mode()[0]\n",
    "        \n",
    "        #Replace Low-Frequency Values with the Mode\n",
    "        df[column] = df[column].apply(lambda x: mode_value if x in low_freq_values else x)\n",
    "\n",
    "    return df\n",
    "\n",
    "train = replace_low_frequency_with_mode(train)\n",
    "test = replace_low_frequency_with_mode(test)"
   ]
  },
  {
   "cell_type": "code",
   "execution_count": 24,
   "metadata": {},
   "outputs": [
    {
     "data": {
      "text/plain": [
       "cap-shape                7\n",
       "cap-surface             11\n",
       "cap-color               12\n",
       "does-bruise-or-bleed     2\n",
       "gill-attachment          7\n",
       "gill-spacing             3\n",
       "gill-color              12\n",
       "stem-color              13\n",
       "has-ring                 2\n",
       "ring-type                8\n",
       "habitat                  8\n",
       "season                   4\n",
       "dtype: int64"
      ]
     },
     "execution_count": 24,
     "metadata": {},
     "output_type": "execute_result"
    }
   ],
   "source": [
    "train.select_dtypes('object').nunique()\n",
    "test.select_dtypes('object').nunique()"
   ]
  },
  {
   "cell_type": "markdown",
   "metadata": {},
   "source": [
    "## 2.3 Pre-processing numerical columns"
   ]
  },
  {
   "cell_type": "code",
   "execution_count": 25,
   "metadata": {
    "execution": {
     "iopub.execute_input": "2024-08-28T13:10:06.219610Z",
     "iopub.status.busy": "2024-08-28T13:10:06.219161Z",
     "iopub.status.idle": "2024-08-28T13:10:06.227044Z",
     "shell.execute_reply": "2024-08-28T13:10:06.225820Z",
     "shell.execute_reply.started": "2024-08-28T13:10:06.219572Z"
    }
   },
   "outputs": [],
   "source": [
    "def detect_outliers_iqr(df):\n",
    "    outliers = pd.DataFrame()\n",
    "    for column in df.select_dtypes(include=['float64', 'int64']):\n",
    "        Q1 = df[column].quantile(0.25)\n",
    "        Q3 = df[column].quantile(0.75)\n",
    "        IQR = Q3 - Q1 \n",
    "        lower_bound = Q1 - 1.5 * IQR\n",
    "        upper_bound = Q3 + 1.5 * IQR\n",
    "        \n",
    "        outliers[column] = ((df[column] < lower_bound) | (df[column] > upper_bound))\n",
    "    return outliers"
   ]
  },
  {
   "cell_type": "code",
   "execution_count": 26,
   "metadata": {
    "execution": {
     "iopub.execute_input": "2024-08-28T13:10:08.617639Z",
     "iopub.status.busy": "2024-08-28T13:10:08.617106Z",
     "iopub.status.idle": "2024-08-28T13:10:09.165073Z",
     "shell.execute_reply": "2024-08-28T13:10:09.163548Z",
     "shell.execute_reply.started": "2024-08-28T13:10:08.617587Z"
    }
   },
   "outputs": [
    {
     "name": "stdout",
     "output_type": "stream",
     "text": [
      "id                   0\n",
      "cap-diameter     76124\n",
      "stem-height     132419\n",
      "stem-width       66481\n",
      "dtype: int64\n"
     ]
    }
   ],
   "source": [
    "outliers_iqr = detect_outliers_iqr(train)\n",
    "print(outliers_iqr.sum())"
   ]
  },
  {
   "cell_type": "code",
   "execution_count": 27,
   "metadata": {
    "execution": {
     "iopub.execute_input": "2024-08-28T13:10:13.619602Z",
     "iopub.status.busy": "2024-08-28T13:10:13.619192Z",
     "iopub.status.idle": "2024-08-28T13:10:13.978464Z",
     "shell.execute_reply": "2024-08-28T13:10:13.977331Z",
     "shell.execute_reply.started": "2024-08-28T13:10:13.619563Z"
    }
   },
   "outputs": [
    {
     "name": "stdout",
     "output_type": "stream",
     "text": [
      "id                  0\n",
      "cap-diameter    51122\n",
      "stem-height     88229\n",
      "stem-width      44766\n",
      "dtype: int64\n"
     ]
    }
   ],
   "source": [
    "outliers_iqr = detect_outliers_iqr(test)\n",
    "print(outliers_iqr.sum())"
   ]
  },
  {
   "cell_type": "code",
   "execution_count": 28,
   "metadata": {
    "execution": {
     "iopub.execute_input": "2024-08-28T13:11:04.662651Z",
     "iopub.status.busy": "2024-08-28T13:11:04.662033Z",
     "iopub.status.idle": "2024-08-28T13:11:06.743022Z",
     "shell.execute_reply": "2024-08-28T13:11:06.741710Z",
     "shell.execute_reply.started": "2024-08-28T13:11:04.662610Z"
    }
   },
   "outputs": [
    {
     "data": {
      "image/png": "[encoded data removed]",
      "text/plain": [
       "<Figure size 1500x800 with 1 Axes>"
      ]
     },
     "metadata": {},
     "output_type": "display_data"
    }
   ],
   "source": [
    "# Visualization\n",
    "import matplotlib.pyplot as plt\n",
    "import seaborn as sns\n",
    "\n",
    "def plot_boxplot(df, title):\n",
    "    plt.figure(figsize=(15, 8))\n",
    "    sns.boxplot(data=df.select_dtypes(include=['float64', 'int64']))\n",
    "    plt.title(f'Boxplot of {title} Data', fontsize=16)\n",
    "    plt.xticks(rotation=360, fontsize=12)\n",
    "    plt.xlabel(\"Features\", fontsize=14)\n",
    "    plt.ylabel(\"Values\", fontsize=14)\n",
    "    plt.show()\n",
    "    \n",
    "train_copy = train.drop(columns = 'id')\n",
    "\n",
    "plot_boxplot(train_copy, 'Train')"
   ]
  },
  {
   "cell_type": "code",
   "execution_count": 29,
   "metadata": {
    "execution": {
     "iopub.execute_input": "2024-08-28T13:12:49.404233Z",
     "iopub.status.busy": "2024-08-28T13:12:49.403775Z",
     "iopub.status.idle": "2024-08-28T13:12:51.515570Z",
     "shell.execute_reply": "2024-08-28T13:12:51.513949Z",
     "shell.execute_reply.started": "2024-08-28T13:12:49.404195Z"
    }
   },
   "outputs": [],
   "source": [
    "def filter_numeric_columns(df):\n",
    "     return df.select_dtypes(include=[np.number])\n",
    "\n",
    "def remove_outliers_iqr(df):\n",
    "    df_numeric = filter_numeric_columns(df)\n",
    "    Q1 = df_numeric.quantile(0.25)\n",
    "    Q3 = df_numeric.quantile(0.75)\n",
    "    IQR = Q3 - Q1\n",
    "    is_outlier = ((df_numeric < (Q1 - 1.5 * IQR)) | (df_numeric > (Q3 + 1.5 * IQR))).any(axis=1)\n",
    "    df_cleaned = df[~is_outlier]\n",
    "    return df_cleaned"
   ]
  },
  {
   "cell_type": "code",
   "execution_count": 30,
   "metadata": {},
   "outputs": [],
   "source": [
    "train_cleaned = remove_outliers_iqr(train)\n",
    "test_cleaned = remove_outliers_iqr(test)"
   ]
  },
  {
   "cell_type": "code",
   "execution_count": 31,
   "metadata": {
    "execution": {
     "iopub.execute_input": "2024-08-28T13:13:15.133651Z",
     "iopub.status.busy": "2024-08-28T13:13:15.133223Z",
     "iopub.status.idle": "2024-08-28T13:13:16.795175Z",
     "shell.execute_reply": "2024-08-28T13:13:16.793842Z",
     "shell.execute_reply.started": "2024-08-28T13:13:15.133617Z"
    }
   },
   "outputs": [
    {
     "data": {
      "image/png": "[encoded data removed]",
      "text/plain": [
       "<Figure size 1500x800 with 1 Axes>"
      ]
     },
     "metadata": {},
     "output_type": "display_data"
    }
   ],
   "source": [
    "train_cleaned_copy = train_cleaned.drop(columns = 'id')\n",
    "\n",
    "plot_boxplot(train_cleaned_copy, 'Train')"
   ]
  },
  {
   "cell_type": "code",
   "execution_count": 32,
   "metadata": {
    "execution": {
     "iopub.execute_input": "2024-08-28T13:14:04.754246Z",
     "iopub.status.busy": "2024-08-28T13:14:04.753806Z",
     "iopub.status.idle": "2024-08-28T13:14:05.889463Z",
     "shell.execute_reply": "2024-08-28T13:14:05.888311Z",
     "shell.execute_reply.started": "2024-08-28T13:14:04.754206Z"
    }
   },
   "outputs": [
    {
     "data": {
      "image/png": "[encoded data removed]",
      "text/plain": [
       "<Figure size 1500x800 with 1 Axes>"
      ]
     },
     "metadata": {},
     "output_type": "display_data"
    }
   ],
   "source": [
    "test_cleaned_copy = test_cleaned.drop(columns = 'id')\n",
    "\n",
    "plot_boxplot(test_cleaned_copy, 'Train')"
   ]
  },
  {
   "cell_type": "markdown",
   "metadata": {},
   "source": [
    "## 2.4 Data Splitting"
   ]
  },
  {
   "cell_type": "code",
   "execution_count": 33,
   "metadata": {
    "execution": {
     "iopub.execute_input": "2024-08-28T13:18:37.954417Z",
     "iopub.status.busy": "2024-08-28T13:18:37.953924Z",
     "iopub.status.idle": "2024-08-28T13:18:41.806034Z",
     "shell.execute_reply": "2024-08-28T13:18:41.804792Z",
     "shell.execute_reply.started": "2024-08-28T13:18:37.954371Z"
    }
   },
   "outputs": [],
   "source": [
    "x_train = train.drop(columns = 'class').copy()\n",
    "y_train = train['class'].copy()\n",
    "x_test = test.copy()"
   ]
  },
  {
   "cell_type": "code",
   "execution_count": 63,
   "metadata": {
    "execution": {
     "iopub.execute_input": "2024-08-28T13:18:42.913467Z",
     "iopub.status.busy": "2024-08-28T13:18:42.913052Z",
     "iopub.status.idle": "2024-08-28T13:18:51.564941Z",
     "shell.execute_reply": "2024-08-28T13:18:51.563597Z",
     "shell.execute_reply.started": "2024-08-28T13:18:42.913427Z"
    }
   },
   "outputs": [],
   "source": [
    "from sklearn.model_selection import train_test_split\n",
    "\n",
    "#X_TRAIN, X_VAL, Y_TRAIN, Y_VAL = train_test_split(x_train, y_train, random_state = 42, test_size = 0.2, stratify = y_train, shuffle=True)\n",
    "\n",
    "X_TRAIN, temp_x, Y_TRAIN, temp_y = train_test_split(x_train, y_train, test_size=0.8, random_state=16, stratify = y_train, shuffle=True)\n",
    "drop_x, X_VAL, drop_y, Y_VAL = train_test_split(temp_x, temp_y, test_size=0.015, random_state=16, stratify = temp_y, shuffle=True)"
   ]
  },
  {
   "cell_type": "code",
   "execution_count": 64,
   "metadata": {
    "execution": {
     "iopub.execute_input": "2024-08-28T13:18:54.960974Z",
     "iopub.status.busy": "2024-08-28T13:18:54.960429Z",
     "iopub.status.idle": "2024-08-28T13:18:54.968977Z",
     "shell.execute_reply": "2024-08-28T13:18:54.967784Z",
     "shell.execute_reply.started": "2024-08-28T13:18:54.960930Z"
    }
   },
   "outputs": [
    {
     "data": {
      "text/plain": [
       "((623389, 16), (37404, 16), (623389,), (37404,), (2077964, 16))"
      ]
     },
     "execution_count": 64,
     "metadata": {},
     "output_type": "execute_result"
    }
   ],
   "source": [
    "X_TRAIN.shape, X_VAL.shape, Y_TRAIN.shape, Y_VAL.shape, x_test.shape"
   ]
  },
  {
   "cell_type": "code",
   "execution_count": null,
   "metadata": {},
   "outputs": [],
   "source": []
  },
  {
   "cell_type": "markdown",
   "metadata": {},
   "source": [
    "## 2.5 Encoding"
   ]
  },
  {
   "cell_type": "code",
   "execution_count": 65,
   "metadata": {
    "execution": {
     "iopub.execute_input": "2024-08-28T13:18:59.070202Z",
     "iopub.status.busy": "2024-08-28T13:18:59.069722Z",
     "iopub.status.idle": "2024-08-28T13:19:19.889909Z",
     "shell.execute_reply": "2024-08-28T13:19:19.888684Z",
     "shell.execute_reply.started": "2024-08-28T13:18:59.070164Z"
    }
   },
   "outputs": [],
   "source": [
    "#Transforms the categorical columns in the sets into a one-hot encoded forma\n",
    "\n",
    "from sklearn.preprocessing import OneHotEncoder\n",
    "\n",
    "X_TRAIN_category = X_TRAIN.select_dtypes('object')\n",
    "X_VAL_category = X_VAL.select_dtypes('object')\n",
    "X_TEST_category = x_test.select_dtypes('object')\n",
    "\n",
    "enc = OneHotEncoder(handle_unknown = 'ignore', sparse_output = False).fit(X_TRAIN_category)\n",
    "\n",
    "X_TRAIN_OH = enc.transform(X_TRAIN_category)\n",
    "X_VAL_OH = enc.transform(X_VAL_category)\n",
    "X_TEST_OH = enc.transform(X_TEST_category)"
   ]
  },
  {
   "cell_type": "code",
   "execution_count": 90,
   "metadata": {
    "scrolled": true
   },
   "outputs": [],
   "source": [
    "from category_encoders.cat_boost import CatBoostEncoder\n",
    "from sklearn.preprocessing import LabelEncoder\n",
    "\n",
    "# Step 1: Encode the target variable\n",
    "label_encoder = LabelEncoder()\n",
    "Y_TRAIN_encoded = label_encoder.fit_transform(Y_TRAIN)\n",
    "\n",
    "# Specify the categorical columns\n",
    "X_TRAIN_category = X_TRAIN.select_dtypes('object').astype(str)\n",
    "X_VAL_category = X_VAL.select_dtypes('object').astype(str)\n",
    "X_TEST_category = x_test.select_dtypes('object').astype(str)\n",
    "#categorical_columns = X_TRAIN.select_dtypes('object').columns.tolist()\n",
    "\n",
    "# Initialize the CatBoostEncoder\n",
    "encoder = CatBoostEncoder(handle_unknown = 'ignore',cols=X_TRAIN_category.columns.tolist())\n",
    "\n",
    "# Fit the encoder on the training data and transform the datasets\n",
    "X_TRAIN_encoded = encoder.fit_transform(X_TRAIN_category, Y_TRAIN_encoded)\n",
    "X_VAL_encoded = encoder.transform(X_VAL_category)\n",
    "X_TEST_encoded = encoder.transform(X_TEST_category)"
   ]
  },
  {
   "cell_type": "code",
   "execution_count": 78,
   "metadata": {},
   "outputs": [
    {
     "data": {
      "text/plain": [
       "3011938    e\n",
       "1512818    p\n",
       "1434801    p\n",
       "148187     p\n",
       "2480288    e\n",
       "Name: class, dtype: object"
      ]
     },
     "execution_count": 78,
     "metadata": {},
     "output_type": "execute_result"
    }
   ],
   "source": []
  },
  {
   "cell_type": "markdown",
   "metadata": {},
   "source": [
    "## 2.6 Scaling"
   ]
  },
  {
   "cell_type": "code",
   "execution_count": 39,
   "metadata": {
    "execution": {
     "iopub.execute_input": "2024-08-28T13:19:19.892528Z",
     "iopub.status.busy": "2024-08-28T13:19:19.892069Z",
     "iopub.status.idle": "2024-08-28T13:19:20.100767Z",
     "shell.execute_reply": "2024-08-28T13:19:20.099643Z",
     "shell.execute_reply.started": "2024-08-28T13:19:19.892478Z"
    }
   },
   "outputs": [],
   "source": [
    "from sklearn.preprocessing import StandardScaler\n",
    "\n",
    "X_TRAIN_conti = X_TRAIN.select_dtypes('float64')\n",
    "X_VAL_conti = X_VAL.select_dtypes('float64')\n",
    "X_TEST_conti = x_test.select_dtypes('float64')\n",
    "\n",
    "scale = StandardScaler().fit(X_TRAIN_conti)\n",
    "\n",
    "X_TRAIN_STD = scale.transform(X_TRAIN_conti)\n",
    "X_VAL_STD = scale.transform(X_VAL_conti)\n",
    "X_TEST_STD = scale.transform(X_TEST_conti)"
   ]
  },
  {
   "cell_type": "markdown",
   "metadata": {},
   "source": [
    "## 2.7 Preparing the input dataset"
   ]
  },
  {
   "cell_type": "code",
   "execution_count": 91,
   "metadata": {
    "execution": {
     "iopub.execute_input": "2024-08-28T13:19:42.733449Z",
     "iopub.status.busy": "2024-08-28T13:19:42.732559Z",
     "iopub.status.idle": "2024-08-28T13:19:44.827445Z",
     "shell.execute_reply": "2024-08-28T13:19:44.826137Z",
     "shell.execute_reply.started": "2024-08-28T13:19:42.733401Z"
    }
   },
   "outputs": [],
   "source": [
    "#X_TRAIN = np.concatenate([X_TRAIN_OH, X_TRAIN_STD], axis = 1)\n",
    "#X_VAL = np.concatenate([X_VAL_OH, X_VAL_STD], axis = 1)\n",
    "#X_TEST = np.concatenate([X_TEST_OH, X_TEST_STD], axis = 1)\n",
    "\n",
    "X_TRAIN = np.concatenate([X_TRAIN_encoded, X_TRAIN_STD], axis = 1)\n",
    "X_VAL = np.concatenate([X_VAL_encoded, X_VAL_STD], axis = 1)\n",
    "X_TEST = np.concatenate([X_TEST_encoded, X_TEST_STD], axis = 1)\n",
    "\n",
    "\n",
    "Y_TRAIN = Y_TRAIN.values.ravel()\n",
    "Y_VAL = Y_VAL.values.ravel()"
   ]
  },
  {
   "cell_type": "code",
   "execution_count": 92,
   "metadata": {
    "execution": {
     "iopub.execute_input": "2024-08-28T13:19:47.762681Z",
     "iopub.status.busy": "2024-08-28T13:19:47.762264Z",
     "iopub.status.idle": "2024-08-28T13:19:47.771569Z",
     "shell.execute_reply": "2024-08-28T13:19:47.770069Z",
     "shell.execute_reply.started": "2024-08-28T13:19:47.762646Z"
    }
   },
   "outputs": [
    {
     "data": {
      "text/plain": [
       "((623389, 15), (37404, 15), (2077964, 15), (623389,), (37404,))"
      ]
     },
     "execution_count": 92,
     "metadata": {},
     "output_type": "execute_result"
    }
   ],
   "source": [
    "X_TRAIN.shape, X_VAL.shape, X_TEST.shape, Y_TRAIN.shape, Y_VAL.shape"
   ]
  },
  {
   "cell_type": "markdown",
   "metadata": {},
   "source": [
    "# 3. Models training"
   ]
  },
  {
   "cell_type": "markdown",
   "metadata": {},
   "source": [
    "## 3.0 Setting up the models"
   ]
  },
  {
   "cell_type": "code",
   "execution_count": 93,
   "metadata": {
    "execution": {
     "iopub.execute_input": "2024-08-28T13:29:24.648555Z",
     "iopub.status.busy": "2024-08-28T13:29:24.648138Z"
    }
   },
   "outputs": [],
   "source": [
    "from sklearn.ensemble import RandomForestClassifier, GradientBoostingClassifier\n",
    "from sklearn.neighbors import KNeighborsClassifier\n",
    "from sklearn.linear_model import LogisticRegression\n",
    "\n",
    "# Initialize classifiers\n",
    "rf = RandomForestClassifier(n_estimators=100, random_state=42, n_jobs = -1)\n",
    "gb = GradientBoostingClassifier(n_estimators=100, random_state=42)\n",
    "knn = KNeighborsClassifier(n_neighbors=5)\n",
    "\n",
    "# Train classifiers\n",
    "rf.fit(X_TRAIN, Y_TRAIN)\n",
    "gb.fit(X_TRAIN, Y_TRAIN)\n",
    "knn.fit(X_TRAIN, Y_TRAIN)\n",
    "\n",
    "# Predict on the validation set\n",
    "y_pred_rf = rf.predict(X_VAL)\n",
    "y_pred_gb = gb.predict(X_VAL)\n",
    "y_pred_knn = knn.predict(X_VAL)\n",
    "\n"
   ]
  },
  {
   "cell_type": "code",
   "execution_count": 96,
   "metadata": {},
   "outputs": [
    {
     "name": "stdout",
     "output_type": "stream",
     "text": [
      "Random Forest Accuracy: 0.9891990161480055\n",
      "Gradient Boosting Accuracy: 0.9189124157844081\n",
      "KNN Accuracy: 0.9787188535985456\n",
      "Random Forest Matthews Correlation Coefficient: 0.9782119771843212\n",
      "Gradient Boosting Matthews Correlation Coefficient: 0.8363075367104822\n",
      "KNN Matthews Correlation Coefficient: 0.9570928296113951\n"
     ]
    }
   ],
   "source": [
    "from sklearn.metrics import accuracy_score\n",
    "from sklearn.metrics import matthews_corrcoef\n",
    "\n",
    "print(\"Random Forest Accuracy:\", accuracy_score(Y_VAL, y_pred_rf))\n",
    "print(\"Gradient Boosting Accuracy:\", accuracy_score(Y_VAL, y_pred_gb))\n",
    "print(\"KNN Accuracy:\", accuracy_score(Y_VAL, y_pred_knn))\n",
    "\n",
    "print(\"Random Forest Matthews Correlation Coefficient:\", matthews_corrcoef(Y_VAL, y_pred_rf))\n",
    "print(\"Gradient Boosting Matthews Correlation Coefficient:\", matthews_corrcoef(Y_VAL, y_pred_gb))\n",
    "print(\"KNN Matthews Correlation Coefficient:\", matthews_corrcoef(Y_VAL, y_pred_knn))"
   ]
  },
  {
   "cell_type": "markdown",
   "metadata": {},
   "source": [
    "## 3.1 Combine the models using Stacking"
   ]
  },
  {
   "cell_type": "code",
   "execution_count": 51,
   "metadata": {},
   "outputs": [
    {
     "name": "stdout",
     "output_type": "stream",
     "text": [
      "Stacking Classifier Accuracy: 0.9907763875521335\n"
     ]
    }
   ],
   "source": [
    "from sklearn.ensemble import StackingClassifier\n",
    "\n",
    "# Define base learners\n",
    "base_learners = [\n",
    "    ('rf', rf),\n",
    "    ('gb', gb),\n",
    "    ('knn', knn)\n",
    "]\n",
    "\n",
    "# Define meta-learner\n",
    "meta_learner = LogisticRegression()\n",
    "\n",
    "# Initialize Stacking Classifier\n",
    "stacking_clf = StackingClassifier(estimators=base_learners, final_estimator=meta_learner)\n",
    "\n",
    "# Train Stacking Classifier\n",
    "stacking_clf.fit(X_TRAIN, Y_TRAIN)\n",
    "\n",
    "# Predict on validation set\n",
    "y_pred_stacking = stacking_clf.predict(X_VAL)\n",
    "\n",
    "print(\"Stacking Classifier Accuracy:\", accuracy_score(Y_VAL, y_pred_stacking))\n"
   ]
  },
  {
   "cell_type": "code",
   "execution_count": 97,
   "metadata": {},
   "outputs": [
    {
     "name": "stdout",
     "output_type": "stream",
     "text": [
      "Random Forest Matthews Correlation Coefficient: 0.9782119771843212\n",
      "Gradient Boosting Matthews Correlation Coefficient: 0.8363075367104822\n",
      "KNN Matthews Correlation Coefficient: 0.9570928296113951\n",
      "Matthews Correlation Coefficient (MCC) on Validation Set: 0.9814\n"
     ]
    }
   ],
   "source": [
    "from sklearn.metrics import matthews_corrcoef\n",
    "\n",
    "mcc = matthews_corrcoef(Y_VAL, y_pred_stacking)\n",
    "\n",
    "print(\"Random Forest Matthews Correlation Coefficient:\", matthews_corrcoef(Y_VAL, y_pred_rf))\n",
    "print(\"Gradient Boosting Matthews Correlation Coefficient:\", matthews_corrcoef(Y_VAL, y_pred_gb))\n",
    "print(\"KNN Matthews Correlation Coefficient:\", matthews_corrcoef(Y_VAL, y_pred_knn))\n",
    "print(f\"Matthews Correlation Coefficient (MCC) on Validation Set: {mcc:.4f}\")\n",
    "\n"
   ]
  },
  {
   "cell_type": "code",
   "execution_count": 108,
   "metadata": {},
   "outputs": [
    {
     "data": {
      "image/png": "[encoded data removed]",
      "text/plain": [
       "<Figure size 1000x600 with 1 Axes>"
      ]
     },
     "metadata": {},
     "output_type": "display_data"
    }
   ],
   "source": [
    "# Calculate accuracy for each model\n",
    "accuracies = {\n",
    "    'Random Forest': accuracy_score(Y_VAL, y_pred_rf),\n",
    "    'Gradient Boosting': accuracy_score(Y_VAL, y_pred_gb),\n",
    "    'KNN': accuracy_score(Y_VAL, y_pred_knn),\n",
    "    'Stacking': accuracy_score(Y_VAL, y_pred_stacking)\n",
    "}\n",
    "\n",
    "# Sort accuracies values for better visualization\n",
    "sorted_accuracies = dict(sorted(accuracies.items(), key=lambda item: item[1]))\n",
    "\n",
    "# Plot the MCCs\n",
    "plt.figure(figsize=(10, 6))\n",
    "bars = plt.barh(list(sorted_accuracies.keys()), list(sorted_accuracies.values()), color=['#3498db', '#2ecc71', '#e74c3c', '#9b59b6'])\n",
    "\n",
    "# Add MCC values to the bars\n",
    "for bar in bars:\n",
    "    plt.text(bar.get_width() + 0.01, bar.get_y() + bar.get_height()/2, \n",
    "             f'{bar.get_width():.3f}', va='center', fontsize=12)\n",
    "\n",
    "plt.xlabel('Accuracy', fontsize=14)\n",
    "plt.title('Comparison of Base Models and Stacking Model', fontsize=16)\n",
    "plt.xlim([0., 1.06])\n",
    "plt.grid(axis='x', linestyle='--', alpha=0.7)\n",
    "plt.show()"
   ]
  },
  {
   "cell_type": "code",
   "execution_count": null,
   "metadata": {},
   "outputs": [],
   "source": []
  },
  {
   "cell_type": "code",
   "execution_count": 107,
   "metadata": {},
   "outputs": [
    {
     "data": {
      "image/png": "[encoded data removed]",
      "text/plain": [
       "<Figure size 1000x600 with 1 Axes>"
      ]
     },
     "metadata": {},
     "output_type": "display_data"
    }
   ],
   "source": [
    "# Calculate mcc for each model\n",
    "mcc = {\n",
    "    'Random Forest': matthews_corrcoef(Y_VAL, y_pred_rf),\n",
    "    'Gradient Boosting': matthews_corrcoef(Y_VAL, y_pred_gb),\n",
    "    'KNN': matthews_corrcoef(Y_VAL, y_pred_knn),\n",
    "    'Stacking': matthews_corrcoef(Y_VAL, y_pred_stacking)\n",
    "}\n",
    "\n",
    "\n",
    "# Sort MCC values for better visualization\n",
    "sorted_mcc = dict(sorted(mcc.items(), key=lambda item: item[1]))\n",
    "\n",
    "# Plot the MCCs\n",
    "plt.figure(figsize=(10, 6))\n",
    "bars = plt.barh(list(sorted_mcc.keys()), list(sorted_mcc.values()), color=['#3498db', '#2ecc71', '#e74c3c', '#9b59b6'])\n",
    "\n",
    "# Add MCC values to the bars\n",
    "for bar in bars:\n",
    "    plt.text(bar.get_width() + 0.01, bar.get_y() + bar.get_height()/2, \n",
    "             f'{bar.get_width():.3f}', va='center', fontsize=12)\n",
    "\n",
    "plt.xlabel('Matthews Correlation Coefficient (MCC)', fontsize=14)\n",
    "plt.title('Comparison of Base Models and Stacking Model', fontsize=16)\n",
    "plt.xlim([0., 1.06])\n",
    "plt.grid(axis='x', linestyle='--', alpha=0.7)\n",
    "plt.show()"
   ]
  },
  {
   "cell_type": "markdown",
   "metadata": {},
   "source": [
    "# 4. Result"
   ]
  },
  {
   "cell_type": "code",
   "execution_count": 52,
   "metadata": {},
   "outputs": [],
   "source": [
    "# Predict on test data\n",
    "y_pred_test = stacking_clf.predict(X_TEST)"
   ]
  },
  {
   "cell_type": "code",
   "execution_count": 53,
   "metadata": {},
   "outputs": [
    {
     "name": "stdout",
     "output_type": "stream",
     "text": [
      "2077964\n",
      "2077964\n"
     ]
    }
   ],
   "source": [
    "print(len(y_pred_test))\n",
    "print(len(test))"
   ]
  },
  {
   "cell_type": "code",
   "execution_count": 54,
   "metadata": {},
   "outputs": [],
   "source": [
    "# Create a DataFrame for submission\n",
    "submission = pd.DataFrame({'id': test['id'], 'class': y_pred_test})"
   ]
  },
  {
   "cell_type": "code",
   "execution_count": 55,
   "metadata": {},
   "outputs": [
    {
     "data": {
      "text/html": [
       "<div>\n",
       "<style scoped>\n",
       "    .dataframe tbody tr th:only-of-type {\n",
       "        vertical-align: middle;\n",
       "    }\n",
       "\n",
       "    .dataframe tbody tr th {\n",
       "        vertical-align: top;\n",
       "    }\n",
       "\n",
       "    .dataframe thead th {\n",
       "        text-align: right;\n",
       "    }\n",
       "</style>\n",
       "<table border=\"1\" class=\"dataframe\">\n",
       "  <thead>\n",
       "    <tr style=\"text-align: right;\">\n",
       "      <th></th>\n",
       "      <th>id</th>\n",
       "      <th>class</th>\n",
       "    </tr>\n",
       "  </thead>\n",
       "  <tbody>\n",
       "    <tr>\n",
       "      <th>0</th>\n",
       "      <td>3116945</td>\n",
       "      <td>e</td>\n",
       "    </tr>\n",
       "    <tr>\n",
       "      <th>1</th>\n",
       "      <td>3116946</td>\n",
       "      <td>p</td>\n",
       "    </tr>\n",
       "    <tr>\n",
       "      <th>2</th>\n",
       "      <td>3116947</td>\n",
       "      <td>p</td>\n",
       "    </tr>\n",
       "    <tr>\n",
       "      <th>3</th>\n",
       "      <td>3116948</td>\n",
       "      <td>p</td>\n",
       "    </tr>\n",
       "    <tr>\n",
       "      <th>4</th>\n",
       "      <td>3116949</td>\n",
       "      <td>e</td>\n",
       "    </tr>\n",
       "  </tbody>\n",
       "</table>\n",
       "</div>"
      ],
      "text/plain": [
       "        id class\n",
       "0  3116945     e\n",
       "1  3116946     p\n",
       "2  3116947     p\n",
       "3  3116948     p\n",
       "4  3116949     e"
      ]
     },
     "execution_count": 55,
     "metadata": {},
     "output_type": "execute_result"
    }
   ],
   "source": [
    "submission.head()"
   ]
  },
  {
   "cell_type": "code",
   "execution_count": 58,
   "metadata": {},
   "outputs": [
    {
     "name": "stdout",
     "output_type": "stream",
     "text": [
      "Submission file created.\n"
     ]
    }
   ],
   "source": [
    "# Save submission file\n",
    "submission.to_csv('./kaggle/working/submission.csv', index=False)\n",
    "\n",
    "print(\"Submission file created.\")"
   ]
  },
  {
   "cell_type": "code",
   "execution_count": null,
   "metadata": {},
   "outputs": [],
   "source": []
  }
 ],
 "metadata": {
  "kaggle": {
   "accelerator": "none",
   "dataSources": [
    {
     "databundleVersionId": 9045607,
     "sourceId": 76727,
     "sourceType": "competition"
    }
   ],
   "dockerImageVersionId": 30761,
   "isGpuEnabled": false,
   "isInternetEnabled": true,
   "language": "python",
   "sourceType": "notebook"
  },
  "kernelspec": {
   "display_name": "web_app_env",
   "language": "python",
   "name": "web_app_env"
  },
  "language_info": {
   "codemirror_mode": {
    "name": "ipython",
    "version": 3
   },
   "file_extension": ".py",
   "mimetype": "text/x-python",
   "name": "python",
   "nbconvert_exporter": "python",
   "pygments_lexer": "ipython3",
   "version": "3.10.9"
  }
 },
 "nbformat": 4,
 "nbformat_minor": 4
}
